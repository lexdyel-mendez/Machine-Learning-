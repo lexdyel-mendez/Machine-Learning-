{
 "cells": [
  {
   "cell_type": "markdown",
   "metadata": {},
   "source": [
    "# MNIST Project "
   ]
  },
  {
   "cell_type": "markdown",
   "metadata": {},
   "source": [
    "## Importing DataSet and Liabraries "
   ]
  },
  {
   "cell_type": "code",
   "execution_count": 55,
   "metadata": {},
   "outputs": [],
   "source": [
    "from keras.datasets import mnist \n",
    "\n",
    "import numpy as np\n",
    "from keras.models import Sequential\n",
    "from keras.layers import Dense\n",
    "from keras.layers import Dropout\n",
    "from keras.utils import np_utils\n",
    "\n",
    "import matplotlib.pyplot as plt \n",
    "\n",
    "seed = 7\n",
    "np.random.seed(seed)"
   ]
  },
  {
   "cell_type": "markdown",
   "metadata": {},
   "source": [
    "## Load the dataset "
   ]
  },
  {
   "cell_type": "code",
   "execution_count": 56,
   "metadata": {},
   "outputs": [],
   "source": [
    "(X_train,y_train) , (X_test, y_test) = mnist.load_data()"
   ]
  },
  {
   "cell_type": "markdown",
   "metadata": {},
   "source": [
    "## Plotting images of the dataset."
   ]
  },
  {
   "cell_type": "code",
   "execution_count": 57,
   "metadata": {},
   "outputs": [
    {
     "data": {
      "text/plain": [
       "<matplotlib.image.AxesImage at 0x1a8a151c908>"
      ]
     },
     "execution_count": 57,
     "metadata": {},
     "output_type": "execute_result"
    },
    {
     "data": {
      "image/png": "[encoded data removed]",
      "text/plain": [
       "<Figure size 432x288 with 4 Axes>"
      ]
     },
     "metadata": {
      "needs_background": "light"
     },
     "output_type": "display_data"
    }
   ],
   "source": [
    "plt.subplot(221)\n",
    "plt.imshow(X_train[0], cmap=plt.get_cmap('gray'))\n",
    "plt.subplot(222)\n",
    "plt.imshow(X_train[1], cmap=plt.get_cmap('gray'))\n",
    "plt.subplot(223)\n",
    "plt.imshow(X_train[2], cmap=plt.get_cmap('gray'))\n",
    "plt.subplot(224)\n",
    "plt.imshow(X_train[3], cmap=plt.get_cmap('gray'))"
   ]
  },
  {
   "cell_type": "markdown",
   "metadata": {},
   "source": [
    "# Data Analysis "
   ]
  },
  {
   "cell_type": "code",
   "execution_count": 58,
   "metadata": {},
   "outputs": [
    {
     "name": "stdout",
     "output_type": "stream",
     "text": [
      "The Shape of the data is:\n",
      "X_train: (60000, 28, 28)  and y_train: (60000,)\n",
      "X_test: (10000, 28, 28)  and y_test: (10000,)\n"
     ]
    }
   ],
   "source": [
    "print(\"The Shape of the data is:\")\n",
    "print(\"X_train:\", X_train.shape, \" and y_train:\",y_train.shape)\n",
    "print(\"X_test:\", X_test.shape, \" and y_test:\",y_test.shape)"
   ]
  },
  {
   "cell_type": "markdown",
   "metadata": {},
   "source": [
    "The data set is an array of 3 dimensions of instance, image width and image height.\n",
    "\n",
    "I am gonna try doing it first without convolutional neural network. Therefore the method ML method im gonna use is Multi-Layer Neural Network. For the same, we gotta turn the images into vectors of pixels. The images are 28x28, which would mean we need a vector of 784."
   ]
  },
  {
   "cell_type": "markdown",
   "metadata": {},
   "source": [
    "We can us NumPy reshape to readjsut the size of the dataset.\n",
    "\n"
   ]
  },
  {
   "cell_type": "code",
   "execution_count": 59,
   "metadata": {},
   "outputs": [
    {
     "name": "stdout",
     "output_type": "stream",
     "text": [
      "The new shape of the training input is: (60000, 784)\n",
      "[[0. 0. 0. ... 0. 0. 0.]\n",
      " [0. 0. 0. ... 0. 0. 0.]\n",
      " [0. 0. 0. ... 0. 0. 0.]\n",
      " ...\n",
      " [0. 0. 0. ... 0. 0. 0.]\n",
      " [0. 0. 0. ... 0. 0. 0.]\n",
      " [0. 0. 0. ... 0. 0. 0.]]\n"
     ]
    }
   ],
   "source": [
    "num_pixels = X_train.shape[1] *X_train.shape[2]\n",
    "\n",
    "X_train = X_train.reshape(X_train.shape[0], num_pixels).astype('float32')\n",
    "X_test = X_test.reshape(X_test.shape[0], num_pixels).astype('float32')\n",
    "\n",
    "print('The new shape of the training input is:',X_train.shape)\n",
    "\n",
    "print(X_train)"
   ]
  },
  {
   "cell_type": "markdown",
   "metadata": {},
   "source": [
    "Since the grayscale value goes from 0 to 255, we can normalize the data by dividing by the maximum value. This would be 255."
   ]
  },
  {
   "cell_type": "code",
   "execution_count": 65,
   "metadata": {},
   "outputs": [
    {
     "name": "stdout",
     "output_type": "stream",
     "text": [
      "(60000, 784)\n"
     ]
    }
   ],
   "source": [
    "X_train = X_train / 255\n",
    "X_test = X_test /255|"
   ]
  },
  {
   "cell_type": "markdown",
   "metadata": {},
   "source": [
    "Now we have values from 1 to 9. This would be a multi-class classification. Therefore its good to implement one hot encoding. Transforming the values into binary vectors. "
   ]
  },
  {
   "cell_type": "code",
   "execution_count": 61,
   "metadata": {},
   "outputs": [
    {
     "name": "stdout",
     "output_type": "stream",
     "text": [
      "We can see that the amount of classes are 10, from 0 to 9:\n"
     ]
    }
   ],
   "source": [
    "y_train = np_utils.to_categorical(y_train)\n",
    "y_test = np_utils.to_categorical(y_test)\n",
    "num_classes = y_test.shape[1]\n",
    "print (\"We can see that the amount of classes are %d, from 0 to 9:\" % num_classes)"
   ]
  },
  {
   "cell_type": "markdown",
   "metadata": {},
   "source": [
    "## Now we can define the model \n",
    "\n",
    "We can do so using a the sequential from keras \n",
    "\n",
    "There is gonna be a hidden layer with the size of the amount of pixels per image that will use that information to categorize it using relu. Relu is better than sigmoid when it comes to categorizing one value or the other. Then we have the output layer that uses a softmax function to calculate the percentage of 1 value in contrast of the other 10 possibilities. "
   ]
  },
  {
   "cell_type": "code",
   "execution_count": 31,
   "metadata": {},
   "outputs": [],
   "source": [
    "def baseline_model():\n",
    "    model = Sequential()\n",
    "    model.add(Dense(num_pixels, input_dim=num_pixels, kernel_initializer='normal',activation='relu'))\n",
    "    model.add(Dense(num_classes, input_dim=num_classes, kernel_initializer='normal',activation='softmax'))\n",
    "    \n",
    "    model.compile(loss='mean_squared_error',optimizer='adam',metrics=['accuracy'])\n",
    "    return model"
   ]
  },
  {
   "cell_type": "code",
   "execution_count": 39,
   "metadata": {},
   "outputs": [
    {
     "name": "stdout",
     "output_type": "stream",
     "text": [
      "Train on 60000 samples, validate on 10000 samples\n",
      "Epoch 1/10\n",
      " - 2s - loss: 0.0127 - acc: 0.9171 - val_loss: 0.0066 - val_acc: 0.9583\n",
      "Epoch 2/10\n",
      " - 1s - loss: 0.0054 - acc: 0.9669 - val_loss: 0.0044 - val_acc: 0.9719\n",
      "Epoch 3/10\n",
      " - 2s - loss: 0.0037 - acc: 0.9775 - val_loss: 0.0039 - val_acc: 0.9748\n",
      "Epoch 4/10\n",
      " - 2s - loss: 0.0027 - acc: 0.9840 - val_loss: 0.0035 - val_acc: 0.9771\n",
      "Epoch 5/10\n",
      " - 2s - loss: 0.0021 - acc: 0.9880 - val_loss: 0.0034 - val_acc: 0.9770\n",
      "Epoch 6/10\n",
      " - 2s - loss: 0.0016 - acc: 0.9910 - val_loss: 0.0030 - val_acc: 0.9808\n",
      "Epoch 7/10\n",
      " - 2s - loss: 0.0014 - acc: 0.9925 - val_loss: 0.0031 - val_acc: 0.9797\n",
      "Epoch 8/10\n",
      " - 1s - loss: 0.0011 - acc: 0.9941 - val_loss: 0.0029 - val_acc: 0.9809\n",
      "Epoch 9/10\n",
      " - 2s - loss: 0.0010 - acc: 0.9943 - val_loss: 0.0030 - val_acc: 0.9805\n",
      "Epoch 10/10\n",
      " - 1s - loss: 7.5956e-04 - acc: 0.9962 - val_loss: 0.0029 - val_acc: 0.9810\n",
      "Baseline Error: 1.90% \n",
      "Accuracy: 98.10%\n"
     ]
    }
   ],
   "source": [
    "model = baseline_model()\n",
    "model.fit(X_train, y_train, validation_data=(X_test, y_test), epochs=10, batch_size=200, verbose=2)\n",
    "scores = model.evaluate(X_test, y_test, verbose=0)\n",
    "print(\"Baseline Error: %.2f%% \\nAccuracy: %.2f%%\" % (100-scores[1]*100, scores[1]*100))\n"
   ]
  }
 ],
 "metadata": {
  "kernelspec": {
   "display_name": "Python 3",
   "language": "python",
   "name": "python3"
  },
  "language_info": {
   "codemirror_mode": {
    "name": "ipython",
    "version": 3
   },
   "file_extension": ".py",
   "mimetype": "text/x-python",
   "name": "python",
   "nbconvert_exporter": "python",
   "pygments_lexer": "ipython3",
   "version": "3.6.6"
  }
 },
 "nbformat": 4,
 "nbformat_minor": 2
}
